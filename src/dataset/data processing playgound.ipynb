{
 "cells": [
  {
   "cell_type": "code",
   "execution_count": 5,
   "id": "2e36b163-a33d-4986-930d-4d8338f166b3",
   "metadata": {},
   "outputs": [
    {
     "name": "stderr",
     "output_type": "stream",
     "text": [
      "/tmp/ipykernel_94828/1011315679.py:15: FutureWarning: Downcasting behavior in `replace` is deprecated and will be removed in a future version. To retain the old behavior, explicitly call `result.infer_objects(copy=False)`. To opt-in to the future behavior, set `pd.set_option('future.no_silent_downcasting', True)`\n",
      "  df.replace(\"nan\", np.nan, inplace=True)\n"
     ]
    },
    {
     "name": "stdout",
     "output_type": "stream",
     "text": [
      "Missing values by field:\n",
      "figi                       12224\n",
      "domicile                   12224\n",
      "total_return_1y            12224\n",
      "tot_ret_ytd                12224\n",
      "fund_style                   267\n",
      "economic_association         267\n",
      "fund_market_cap_focus        267\n",
      "description                   49\n",
      "fund_asset_group              12\n",
      "manager                        7\n",
      "fund_objective                 4\n",
      "fund_strategy                  3\n",
      "asset_class_focus              1\n",
      "aggregated_value_traded        0\n",
      "open_interest                  0\n",
      "short_interest                 0\n",
      "aggregated_volume              0\n",
      "bid_ask_spread                 0\n",
      "volume_1d                      0\n",
      "return_10y                     0\n",
      "return_5y                      0\n",
      "total_value_traded             0\n",
      "etf_name                       0\n",
      "implied_liquidity              0\n",
      "inception_date                 0\n",
      "inception_year                 0\n",
      "ytd_return                     0\n",
      "use_derivative                 0\n",
      "payment_type                   0\n",
      "leverage                       0\n",
      "structure                      0\n",
      "return_3y                      0\n",
      "ytd_flow                       0\n",
      "return_mtd                     0\n",
      "return_1d                      0\n",
      "bbg_ticker                     0\n",
      "fund_type                      0\n",
      "fund_industry_focus            0\n",
      "fund_geographical_focus        0\n",
      "class_assets                   0\n",
      "fund_assets                    0\n",
      "expense_ratio                  0\n",
      "year_to_date_return            0\n",
      "yield_12m                      0\n",
      "volume_30d                     0\n",
      "ticker                         0\n",
      "flow_1m                        0\n",
      "nav_trk_error                  0\n",
      "holdings                       0\n",
      "primary                        0\n",
      "avg_bid_ask_spread             0\n",
      "dtype: int64\n",
      "\n",
      "Missing values by row:\n",
      "8841    10\n",
      "4151     9\n",
      "1123     9\n",
      "8265     8\n",
      "6034     8\n",
      "        ..\n",
      "4163     4\n",
      "4164     4\n",
      "4165     4\n",
      "4166     4\n",
      "6112     4\n",
      "Length: 12224, dtype: int64\n"
     ]
    }
   ],
   "source": [
    "import json\n",
    "import pandas as pd\n",
    "import numpy as np\n",
    "\n",
    "ETFS_PATH_V3 = \"../../data/etf_data_v3.json\"\n",
    "\n",
    "def load_data(path):\n",
    "    with open(path, 'r') as f:\n",
    "        data = json.load(f)\n",
    "    return pd.DataFrame(data)\n",
    "\n",
    "def analyze_missing_values(df):\n",
    "    # Replace \"Not Available\" with np.nan\n",
    "    # df.replace(\"Not Available\", np.nan, inplace=True)\n",
    "    df.replace(\"nan\", np.nan, inplace=True)\n",
    "    \n",
    "    # Calculate missing values for each field\n",
    "    missing_by_field = df.isna().sum().sort_values(ascending=False)\n",
    "    \n",
    "    # Calculate missing values for each row\n",
    "    missing_by_row = df.isna().sum(axis=1).sort_values(ascending=False)\n",
    "    \n",
    "    return missing_by_field, missing_by_row\n",
    "\n",
    "# Load data\n",
    "df = load_data(ETFS_PATH_V3)\n",
    "\n",
    "# Analyze missing values\n",
    "missing_by_field, missing_by_row = analyze_missing_values(df)\n",
    "\n",
    "# Print missing values\n",
    "print(\"Missing values by field:\")\n",
    "print(missing_by_field)\n",
    "\n",
    "print(\"\\nMissing values by row:\")\n",
    "print(missing_by_row)\n"
   ]
  },
  {
   "cell_type": "code",
   "execution_count": 2,
   "id": "f9a867de-fe40-4bc0-8510-5f1c9c4e5ea2",
   "metadata": {},
   "outputs": [
    {
     "name": "stdout",
     "output_type": "stream",
     "text": [
      "  inception_year\n",
      "0           1993\n",
      "1           2000\n",
      "2           2010\n",
      "3           2001\n",
      "4           1999\n"
     ]
    }
   ],
   "source": [
    "def transform_inception_year(year):\n",
    "    if pd.isna(year):\n",
    "        return year\n",
    "    elif len(year) == 2:\n",
    "        year_int = int(year)\n",
    "        if year_int <= 23:  # Assuming current year is 2023, adjust as needed\n",
    "            return f\"20{year}\"\n",
    "        else:\n",
    "            return f\"19{year}\"\n",
    "    return year\n",
    "\n",
    "df['inception_year'] = df['inception_year'].apply(transform_inception_year)\n",
    "\n",
    "# Verify changes\n",
    "print(df[['inception_year']].head())\n"
   ]
  },
  {
   "cell_type": "code",
   "execution_count": 6,
   "id": "0a733064-08fb-4319-804f-03f3eb913b8b",
   "metadata": {},
   "outputs": [
    {
     "name": "stdout",
     "output_type": "stream",
     "text": [
      "Missing values by field with percentage:\n",
      "                         Missing Values  Percentage\n",
      "open_interest                     10476   85.700262\n",
      "return_10y                         9555   78.165903\n",
      "short_interest                     8693   71.114202\n",
      "implied_liquidity                  6837   55.930955\n",
      "return_5y                          6623   54.180301\n",
      "yield_12m                          6368   52.094241\n",
      "payment_type                       5692   46.564136\n",
      "return_3y                          4782   39.119764\n",
      "nav_trk_error                      3427   28.035013\n",
      "class_assets                       2330   19.060864\n",
      "expense_ratio                      1997   16.336715\n",
      "holdings                           1634   13.367147\n",
      "aggregated_volume                  1206    9.865838\n",
      "aggregated_value_traded            1205    9.857657\n",
      "total_value_traded                 1205    9.857657\n",
      "bid_ask_spread                     1106    9.047775\n",
      "year_to_date_return                 790    6.462696\n",
      "ytd_return                          790    6.462696\n",
      "avg_bid_ask_spread                  569    4.654777\n",
      "volume_30d                          357    2.920484\n",
      "fund_assets                         315    2.576898\n",
      "return_mtd                          247    2.020615\n",
      "return_1d                           199    1.627945\n",
      "inception_date                       11    0.089987\n",
      "inception_year                       11    0.089987\n",
      "volume_1d                             0    0.000000\n",
      "use_derivative                        0    0.000000\n",
      "leverage                              0    0.000000\n",
      "structure                             0    0.000000\n",
      "etf_name                              0    0.000000\n",
      "primary                               0    0.000000\n",
      "fund_industry_focus                   0    0.000000\n",
      "bbg_ticker                            0    0.000000\n",
      "figi                                  0    0.000000\n",
      "description                           0    0.000000\n",
      "fund_type                             0    0.000000\n",
      "domicile                              0    0.000000\n",
      "manager                               0    0.000000\n",
      "asset_class_focus                     0    0.000000\n",
      "fund_asset_group                      0    0.000000\n",
      "fund_geographical_focus               0    0.000000\n",
      "flow_1m                               0    0.000000\n",
      "fund_objective                        0    0.000000\n",
      "economic_association                  0    0.000000\n",
      "fund_strategy                         0    0.000000\n",
      "fund_market_cap_focus                 0    0.000000\n",
      "fund_style                            0    0.000000\n",
      "tot_ret_ytd                           0    0.000000\n",
      "total_return_1y                       0    0.000000\n",
      "ticker                                0    0.000000\n",
      "ytd_flow                              0    0.000000\n"
     ]
    }
   ],
   "source": [
    "def analyze_missing_values(df):\n",
    "    df.replace(\"Not Available\", np.nan, inplace=True)\n",
    "    total_records = len(df)\n",
    "    \n",
    "    # Calculate missing values for each field\n",
    "    missing_by_field = df.isna().sum().sort_values(ascending=False)\n",
    "    missing_by_field_percentage = (missing_by_field / total_records) * 100\n",
    "    \n",
    "    missing_by_field_df = pd.DataFrame({\n",
    "        'Not Available Values': missing_by_field,\n",
    "        'Percentage': missing_by_field_percentage\n",
    "    })\n",
    "    \n",
    "    # Calculate missing values for each row\n",
    "    missing_by_row = df.isna().sum(axis=1).sort_values(ascending=False)\n",
    "    \n",
    "    return missing_by_field_df, missing_by_row\n",
    "\n",
    "# Load data\n",
    "df = load_data(ETFS_PATH_V3)\n",
    "\n",
    "# Analyze missing values\n",
    "missing_by_field_df, missing_by_row = analyze_missing_values(df)\n",
    "\n",
    "# Print Not Available values by field with percentage\n",
    "print(\"Not Available values by field with percentage:\")\n",
    "print(missing_by_field_df)\n"
   ]
  },
  {
   "cell_type": "code",
   "execution_count": 12,
   "id": "c8404f57-b9fa-4d29-94a7-24e34e60a79e",
   "metadata": {},
   "outputs": [
    {
     "data": {
      "image/png": "[encoded data removed]",
      "text/plain": [
       "<Figure size 1000x600 with 1 Axes>"
      ]
     },
     "metadata": {},
     "output_type": "display_data"
    }
   ],
   "source": [
    "import matplotlib.pyplot as plt\n",
    "\n",
    "def plot_missing_values_histogram(missing_by_row):\n",
    "    plt.figure(figsize=(10, 6))\n",
    "    plt.hist(missing_by_row, bins=range(0, 30), edgecolor='black')\n",
    "    plt.title('Histogram of Not Available Values per number of unavail fields')\n",
    "    plt.xlabel('Number of Not Available Values')\n",
    "    plt.ylabel('Number of Records')\n",
    "    plt.xticks(range(0, 30))\n",
    "    plt.show()\n",
    "\n",
    "# Plot the histogram\n",
    "plot_missing_values_histogram(missing_by_row)\n"
   ]
  },
  {
   "cell_type": "code",
   "execution_count": 13,
   "id": "f77cfa0e-c982-4838-8d2b-23768e72f0e0",
   "metadata": {},
   "outputs": [
    {
     "name": "stdout",
     "output_type": "stream",
     "text": [
      "Columns after removal: Index(['etf_name', 'ticker', 'bbg_ticker', 'description', 'fund_type',\n",
      "       'manager', 'asset_class_focus', 'fund_asset_group',\n",
      "       'fund_industry_focus', 'fund_geographical_focus', 'fund_objective',\n",
      "       'economic_association', 'fund_strategy', 'fund_market_cap_focus',\n",
      "       'fund_style', 'class_assets', 'fund_assets', 'expense_ratio',\n",
      "       'year_to_date_return', 'yield_12m', 'volume_30d', 'ytd_flow', 'flow_1m',\n",
      "       'nav_trk_error', 'holdings', 'primary', 'return_1d', 'return_mtd',\n",
      "       'ytd_return', 'return_3y', 'return_5y', 'volume_1d',\n",
      "       'aggregated_volume', 'aggregated_value_traded', 'short_interest',\n",
      "       'total_value_traded', 'bid_ask_spread', 'implied_liquidity',\n",
      "       'inception_date', 'inception_year', 'use_derivative', 'payment_type',\n",
      "       'leverage', 'structure', 'avg_bid_ask_spread'],\n",
      "      dtype='object')\n"
     ]
    }
   ],
   "source": [
    "# Remove specified fields\n",
    "fields_to_remove = ['figi', 'domicile', 'total_return_1y', 'tot_ret_ytd', 'open_interest', 'return_10y']\n",
    "df.drop(columns=fields_to_remove, inplace=True)\n",
    "\n",
    "# Verify the removal\n",
    "print(f\"Columns after removal: {df.columns}\")"
   ]
  },
  {
   "cell_type": "code",
   "execution_count": 23,
   "id": "4f5de11c-460b-4d13-9c1b-1b86bbc8c71d",
   "metadata": {},
   "outputs": [],
   "source": [
    "fields_to_remove = [\n",
    "    'figi', 'domicile', 'total_return_1y', 'tot_ret_ytd',\n",
    "    'short_interest', 'implied_liquidity', 'return_5y', 'yield_12m'\n",
    "]\n",
    "df.drop(columns=fields_to_remove, inplace=True)\n"
   ]
  },
  {
   "cell_type": "code",
   "execution_count": 32,
   "id": "f24b1e09-a778-4060-be92-2b16bc8e34d5",
   "metadata": {},
   "outputs": [],
   "source": [
    "def analyze_missing_values(df):\n",
    "    df.replace(\"Not Available\", np.nan, inplace=True)\n",
    "    df.replace(\"nan\", np.nan, inplace=True)\n",
    "    total_records = len(df)\n",
    "    \n",
    "    # Calculate missing values for each field\n",
    "    missing_by_field = df.isna().sum().sort_values(ascending=False)\n",
    "    missing_by_field_percentage = (missing_by_field / total_records) * 100\n",
    "    \n",
    "    missing_by_field_df = pd.DataFrame({\n",
    "        'Not Available Values / nan': missing_by_field,\n",
    "        'Percentage': missing_by_field_percentage\n",
    "    })\n",
    "    \n",
    "    # Calculate missing values for each row\n",
    "    missing_by_row = df.isna().sum(axis=1).sort_values(ascending=False)\n",
    "    \n",
    "    return missing_by_field_df, missing_by_row\n"
   ]
  },
  {
   "cell_type": "code",
   "execution_count": 38,
   "id": "7a00d318-1231-4ef7-a300-9af1e2bb5967",
   "metadata": {},
   "outputs": [
    {
     "name": "stdout",
     "output_type": "stream",
     "text": [
      "Missing values by field:\n",
      "                         Not Available Values / nan  Percentage\n",
      "payment_type                                   5692   46.564136\n",
      "return_3y                                      4782   39.119764\n",
      "nav_trk_error                                  3427   28.035013\n",
      "class_assets                                   2330   19.060864\n",
      "expense_ratio                                  1997   16.336715\n",
      "holdings                                       1634   13.367147\n",
      "aggregated_volume                              1206    9.865838\n",
      "aggregated_value_traded                        1205    9.857657\n",
      "total_value_traded                             1205    9.857657\n",
      "bid_ask_spread                                 1106    9.047775\n",
      "ytd_return                                      790    6.462696\n",
      "year_to_date_return                             790    6.462696\n",
      "avg_bid_ask_spread                              569    4.654777\n",
      "volume_30d                                      357    2.920484\n",
      "fund_assets                                     315    2.576898\n",
      "fund_style                                      267    2.184228\n",
      "fund_market_cap_focus                           267    2.184228\n",
      "economic_association                            267    2.184228\n",
      "return_mtd                                      247    2.020615\n",
      "return_1d                                       199    1.627945\n",
      "description                                      49    0.400851\n",
      "fund_asset_group                                 12    0.098168\n",
      "inception_date                                   11    0.089987\n",
      "inception_year                                   11    0.089987\n",
      "manager                                           7    0.057264\n",
      "fund_objective                                    4    0.032723\n",
      "fund_strategy                                     3    0.024542\n",
      "asset_class_focus                                 1    0.008181\n",
      "structure                                         0    0.000000\n",
      "use_derivative                                    0    0.000000\n",
      "leverage                                          0    0.000000\n",
      "etf_name                                          0    0.000000\n",
      "volume_1d                                         0    0.000000\n",
      "primary                                           0    0.000000\n",
      "flow_1m                                           0    0.000000\n",
      "ticker                                            0    0.000000\n",
      "fund_geographical_focus                           0    0.000000\n",
      "fund_industry_focus                               0    0.000000\n",
      "fund_type                                         0    0.000000\n",
      "bbg_ticker                                        0    0.000000\n",
      "ytd_flow                                          0    0.000000\n",
      "\n",
      "Missing values by row:\n",
      "12050    18\n",
      "12114    18\n",
      "11737    17\n",
      "11104    17\n",
      "11501    17\n",
      "         ..\n",
      "3728      0\n",
      "3725      0\n",
      "3722      0\n",
      "3721      0\n",
      "0         0\n",
      "Length: 12224, dtype: int64\n"
     ]
    }
   ],
   "source": [
    "missing_by_field, missing_by_row = analyze_missing_values(df)\n",
    "\n",
    "# Print missing values\n",
    "print(\"Missing values by field:\")\n",
    "print(missing_by_field)\n",
    "\n",
    "print(\"\\nMissing values by row:\")\n",
    "print(missing_by_row)\n"
   ]
  },
  {
   "cell_type": "code",
   "execution_count": 37,
   "id": "18226a98-97bf-45b1-9a02-0dc7ec50de87",
   "metadata": {},
   "outputs": [
    {
     "data": {
      "image/png": "[encoded data removed]",
      "text/plain": [
       "<Figure size 1000x600 with 1 Axes>"
      ]
     },
     "metadata": {},
     "output_type": "display_data"
    }
   ],
   "source": [
    "import matplotlib.pyplot as plt\n",
    "\n",
    "def plot_missing_values_histogram(missing_by_row):\n",
    "    plt.figure(figsize=(10, 6))\n",
    "    plt.hist(missing_by_row, bins=range(0, 30), edgecolor='black')\n",
    "    plt.title('Histogram of Not Available / nan Values per number of unavail fields')\n",
    "    plt.xlabel('Number of Not Available Values')\n",
    "    plt.ylabel('Number of Records')\n",
    "    plt.xticks(range(0, 30))\n",
    "    plt.show()\n",
    "\n",
    "# Plot the histogram\n",
    "plot_missing_values_histogram(missing_by_row)\n"
   ]
  },
  {
   "cell_type": "code",
   "execution_count": 45,
   "id": "fb7d90f3-9dff-4afb-a03e-75585b88e098",
   "metadata": {},
   "outputs": [
    {
     "data": {
      "text/plain": [
       "174"
      ]
     },
     "execution_count": 45,
     "metadata": {},
     "output_type": "execute_result"
    }
   ],
   "source": [
    "(missing_by_row > 12).sum()\n"
   ]
  },
  {
   "cell_type": "code",
   "execution_count": 46,
   "id": "a7cb99ce-e02f-481d-ba43-c6e59dffa581",
   "metadata": {},
   "outputs": [
    {
     "name": "stderr",
     "output_type": "stream",
     "text": [
      "/tmp/ipykernel_94828/3659929268.py:1: UserWarning: Boolean Series key will be reindexed to match DataFrame index.\n",
      "  df_cleaned = df[missing_by_row <= 12]\n"
     ]
    }
   ],
   "source": [
    "df_cleaned = df[missing_by_row <= 12]\n"
   ]
  },
  {
   "cell_type": "code",
   "execution_count": 49,
   "id": "41c9d250-c6f4-4d51-98b0-ac5ab3bfc892",
   "metadata": {},
   "outputs": [
    {
     "name": "stdout",
     "output_type": "stream",
     "text": [
      "Rows before cleaning: 12224\n",
      "Rows after cleaning: 12050\n"
     ]
    }
   ],
   "source": [
    "# Print confirmation\n",
    "print(f\"Rows before cleaning: {len(df)}\")\n",
    "print(f\"Rows after cleaning: {len(df_cleaned)}\")\n"
   ]
  },
  {
   "cell_type": "code",
   "execution_count": 54,
   "id": "3a8e872b-13d7-48c9-8ea7-008e8c3339f6",
   "metadata": {},
   "outputs": [],
   "source": [
    "d1 =     {\n",
    "        \"etf_name\":\"SPDR S&P 500 ETF Trust\",\n",
    "        \"ticker\":\"SPY\",\n",
    "        \"bbg_ticker\":\"SPY US Equity\",\n",
    "        \"description\":\"SPDR S&P 500 ETF Trust is an exchange-traded fund incorporated in the USA. The ETF tracks the S&P 500 Index. The Trust consists of a portfolio representing all 500 stocks in the S&P 500 Index. It holds predominantly large-cap U.S. stocks. This ETF is structured as a Unit Investment Trust and pays dividends on a quarterly basis. The holdings are weighted by market capitalization.\",\n",
    "        \"fund_type\":\"ETF\",\n",
    "        \"manager\":\"State Street Corp\",\n",
    "        \"asset_class_focus\":\"Equity\",\n",
    "        \"fund_asset_group\":\"Domestic Equity\",\n",
    "        \"fund_industry_focus\":\"N.A.\",\n",
    "        \"fund_geographical_focus\":\"United States\",\n",
    "        \"fund_objective\":\"Large-cap\",\n",
    "        \"economic_association\":\"N.A.\",\n",
    "        \"fund_strategy\":\"Blend\",\n",
    "        \"fund_market_cap_focus\":\"Large-cap\",\n",
    "        \"fund_style\":\"N.A.\",\n",
    "        \"class_assets\":\"514613.75\",\n",
    "        \"fund_assets\":\"514613.75\",\n",
    "        \"expense_ratio\":\"0.09%\",\n",
    "        \"year_to_date_return\":\"+9.92%\",\n",
    "        \"volume_30d\":\"68217120\",\n",
    "        \"ytd_flow\":\"-24543.06\",\n",
    "        \"flow_1m\":\"-7267.63\",\n",
    "        \"nav_trk_error\":\"0.0224%\",\n",
    "        \"holdings\":\"504.0\",\n",
    "        \"primary\":\"primary\",\n",
    "        \"return_1d\":\"+0.13%\",\n",
    "        \"return_mtd\":\"+3.76%\",\n",
    "        \"ytd_return\":\"+9.92%\",\n",
    "        \"return_3y\":\"+9.21%\",\n",
    "        \"volume_1d\":\"52233171\",\n",
    "        \"aggregated_volume\":\"52326300\",\n",
    "        \"aggregated_value_traded\":\"27254010699\",\n",
    "        \"total_value_traded\":\"27254010699\",\n",
    "        \"bid_ask_spread\":\"0.01\",\n",
    "        \"inception_date\":\"01/22/93\",\n",
    "        \"inception_year\":\"93\",\n",
    "        \"use_derivative\":\"No\",\n",
    "        \"payment_type\":\"Income\",\n",
    "        \"leverage\":\"does not use leverage\",\n",
    "        \"structure\":\"Unit Investment Trust (UIT)\",\n",
    "        \"avg_bid_ask_spread\":\"0.00%\"\n",
    "    }\n",
    "d2 =     {\n",
    "        \"etf_name\": \"YLETF 4D Nasdaq 100\",\n",
    "        \"ticker\": \"YELNF3\",\n",
    "        \"bbg_ticker\": \"YELNF3 IT Equity\",\n",
    "        \"figi\": \"nan\",\n",
    "        \"description\": \"YLETF 4D Nasdaq 100 Fund is an Exchange-Traded Fund incorporated in Israel. The Fund seeks to track the performance of the NASDAQ 100 - NTR index.\",\n",
    "        \"fund_type\": \"ETF\",\n",
    "        \"domicile\": \"nan\",\n",
    "        \"manager\": \"Yelin Lapidot Holdings Managem\",\n",
    "        \"asset_class_focus\": \"Equity\",\n",
    "        \"fund_asset_group\": \"Global Equity\",\n",
    "        \"fund_industry_focus\": \"N.A.\",\n",
    "        \"fund_geographical_focus\": \"United States\",\n",
    "        \"fund_objective\": \"N.A.\",\n",
    "        \"economic_association\": \"N.A.\",\n",
    "        \"fund_strategy\": \"Blend\",\n",
    "        \"fund_market_cap_focus\": \"Large-cap\",\n",
    "        \"fund_style\": \"N.A.\",\n",
    "        \"tot_ret_ytd\": \"nan\",\n",
    "        \"total_return_1y\": \"nan\",\n",
    "        \"class_assets\": \"Not Available\",\n",
    "        \"fund_assets\": \"8.13\",\n",
    "        \"expense_ratio\": \"0.02%\",\n",
    "        \"year_to_date_return\": \"Not Available\",\n",
    "        \"yield_12m\": \"Not Available\",\n",
    "        \"volume_30d\": \"5649\",\n",
    "        \"ytd_flow\": \"5.64\",\n",
    "        \"flow_1m\": \"0.01\",\n",
    "        \"nav_trk_error\": \"Not Available\",\n",
    "        \"holdings\": \"24.0\",\n",
    "        \"primary\": \"primary\",\n",
    "        \"return_1d\": \"0%\",\n",
    "        \"return_mtd\": \"+0.65%\",\n",
    "        \"ytd_return\": \"Not Available\",\n",
    "        \"return_3y\": \"Not Available\",\n",
    "        \"return_5y\": \"Not Available\",\n",
    "        \"return_10y\": \"Not Available\",\n",
    "        \"volume_1d\": \"0\",\n",
    "        \"aggregated_volume\": \"Not Available\",\n",
    "        \"aggregated_value_traded\": \"Not Available\",\n",
    "        \"short_interest\": \"Not Available\",\n",
    "        \"open_interest\": \"Not Available\",\n",
    "        \"total_value_traded\": \"Not Available\",\n",
    "        \"bid_ask_spread\": \"21\",\n",
    "        \"implied_liquidity\": \"Not Available\",\n",
    "        \"inception_date\": \"01/15/24\",\n",
    "        \"inception_year\": \"24\",\n",
    "        \"use_derivative\": \"No\",\n",
    "        \"payment_type\": \"Income\",\n",
    "        \"leverage\": \"does not use leverage\",\n",
    "        \"structure\": \"Open-End Investment Company\",\n",
    "        \"avg_bid_ask_spread\": \"0.36%\"\n",
    "    }"
   ]
  },
  {
   "cell_type": "code",
   "execution_count": 61,
   "id": "f0aa0e49-dc3d-43ff-b7e8-edbae87ef357",
   "metadata": {},
   "outputs": [
    {
     "data": {
      "text/plain": [
       "{'domicile',\n",
       " 'figi',\n",
       " 'implied_liquidity',\n",
       " 'open_interest',\n",
       " 'return_10y',\n",
       " 'return_5y',\n",
       " 'short_interest',\n",
       " 'tot_ret_ytd',\n",
       " 'total_return_1y',\n",
       " 'yield_12m'}"
      ]
     },
     "execution_count": 61,
     "metadata": {},
     "output_type": "execute_result"
    }
   ],
   "source": [
    "deleted = set(d1) ^ set(d2)\n",
    "deleted"
   ]
  },
  {
   "cell_type": "code",
   "execution_count": 70,
   "id": "20f4da02-11ab-4c7c-899c-e4a8645c7942",
   "metadata": {},
   "outputs": [],
   "source": [
    "def clean_strings(df):\n",
    "    # Iterate over each column in the DataFrame\n",
    "    for col in df.select_dtypes(include=['object']).columns:\n",
    "        # Replace backslashes\n",
    "        df[col] = df[col].str.replace(r'\\\\', '', regex=True)\n",
    "        # Replace escaped forward slashes\n",
    "        df[col] = df[col].str.replace(r'\\/', '/', regex=True)\n",
    "        # Replace escaped double quotes\n",
    "        df[col] = df[col].str.replace(r'\\\"', '\"', regex=True)\n",
    "    return df\n"
   ]
  },
  {
   "cell_type": "code",
   "execution_count": 71,
   "id": "4d0f47ed-1586-479f-acc6-705021cc1302",
   "metadata": {},
   "outputs": [
    {
     "name": "stderr",
     "output_type": "stream",
     "text": [
      "/tmp/ipykernel_94828/3836148336.py:5: SettingWithCopyWarning: \n",
      "A value is trying to be set on a copy of a slice from a DataFrame.\n",
      "Try using .loc[row_indexer,col_indexer] = value instead\n",
      "\n",
      "See the caveats in the documentation: https://pandas.pydata.org/pandas-docs/stable/user_guide/indexing.html#returning-a-view-versus-a-copy\n",
      "  df[col] = df[col].str.replace(r'\\\\', '', regex=True)\n",
      "/tmp/ipykernel_94828/3836148336.py:7: SettingWithCopyWarning: \n",
      "A value is trying to be set on a copy of a slice from a DataFrame.\n",
      "Try using .loc[row_indexer,col_indexer] = value instead\n",
      "\n",
      "See the caveats in the documentation: https://pandas.pydata.org/pandas-docs/stable/user_guide/indexing.html#returning-a-view-versus-a-copy\n",
      "  df[col] = df[col].str.replace(r'\\/', '/', regex=True)\n",
      "/tmp/ipykernel_94828/3836148336.py:9: SettingWithCopyWarning: \n",
      "A value is trying to be set on a copy of a slice from a DataFrame.\n",
      "Try using .loc[row_indexer,col_indexer] = value instead\n",
      "\n",
      "See the caveats in the documentation: https://pandas.pydata.org/pandas-docs/stable/user_guide/indexing.html#returning-a-view-versus-a-copy\n",
      "  df[col] = df[col].str.replace(r'\\\"', '\"', regex=True)\n"
     ]
    }
   ],
   "source": [
    "cleaned_df = clean_strings(df_cleaned)"
   ]
  },
  {
   "cell_type": "code",
   "execution_count": 86,
   "id": "e72a34a8-7db5-4763-8bb3-27197bb77bcd",
   "metadata": {
    "scrolled": true
   },
   "outputs": [
    {
     "name": "stdout",
     "output_type": "stream",
     "text": [
      "                                  etf_name   ticker         bbg_ticker  \\\n",
      "0                   SPDR S&P 500 ETF Trust      SPY      SPY US Equity   \n",
      "1                 iShares Core S&P 500 ETF      IVV      IVV US Equity   \n",
      "2                     Vanguard S&P 500 ETF      VOO      VOO US Equity   \n",
      "3          Vanguard Total Stock Market ETF      VTI      VTI US Equity   \n",
      "4               Invesco QQQ Trust Series 1      QQQ      QQQ US Equity   \n",
      "...                                    ...      ...                ...   \n",
      "12218  YLETF 4A Nasdaq 100 Currency Hedged   YELNF4   YELNF4 IT Equity   \n",
      "12220              Amplify High Income ETF      YYY      YYY US Equity   \n",
      "12221                   BMO All Equity ETF     ZEQT     ZEQT CN Equity   \n",
      "12222                     Zerodha Gold Etf  ZGLDETF  ZGLDETF IN Equity   \n",
      "12223     Zerodha Nifty 1D Rate Liquid ETF  ZN1RLET  ZN1RLET IN Equity   \n",
      "\n",
      "                                             description fund_type  \\\n",
      "0      SPDR S&P 500 ETF Trust is an exchange-traded f...       ETF   \n",
      "1      iShares Core S&P 500 ETF is an exchange-traded...       ETF   \n",
      "2      Vanguard S&P 500 ETF is an exchange-traded fun...       ETF   \n",
      "3      Vanguard Total Stock Market ETF is an exchange...       ETF   \n",
      "4      Invesco QQQ Trust Series 1 is an exchange-trad...       ETF   \n",
      "...                                                  ...       ...   \n",
      "12218  YLETF 4A Nasdaq 100 Currency Hedged Fund is an...       ETF   \n",
      "12220  Amplify High Income ETF is an exchange-traded ...       ETF   \n",
      "12221  BMO All-Equity ETF is an exchange traded fund ...       ETF   \n",
      "12222  Zerodha Gold ETF is an exchange traded fund in...       ETF   \n",
      "12223  Zerodha Nifty 1D Rate Liquid ETF is an ETF inc...       ETF   \n",
      "\n",
      "                              manager asset_class_focus  \\\n",
      "0                   State Street Corp            Equity   \n",
      "1                       BlackRock Inc            Equity   \n",
      "2              Vanguard Group Inc/The            Equity   \n",
      "3              Vanguard Group Inc/The            Equity   \n",
      "4                         Invesco Ltd            Equity   \n",
      "...                               ...               ...   \n",
      "12218  Yelin Lapidot Holdings Managem            Equity   \n",
      "12220         Amplify Investments LLC              N.A.   \n",
      "12221                Bank of Montreal            Equity   \n",
      "12222                             NaN         Commodity   \n",
      "12223                             NaN      Fixed Income   \n",
      "\n",
      "            fund_asset_group fund_industry_focus fund_geographical_focus  ...  \\\n",
      "0            Domestic Equity                N.A.           United States  ...   \n",
      "1            Domestic Equity                N.A.           United States  ...   \n",
      "2            Domestic Equity                N.A.           United States  ...   \n",
      "3            Domestic Equity                N.A.           United States  ...   \n",
      "4            Domestic Equity                N.A.           United States  ...   \n",
      "...                      ...                 ...                     ...  ...   \n",
      "12218          Global Equity                N.A.           United States  ...   \n",
      "12220       Mixed Allocation                N.A.           United States  ...   \n",
      "12221          Global Equity                N.A.                  Global  ...   \n",
      "12222              Commodity                N.A.                   India  ...   \n",
      "12223  Domestic Fixed Income                N.A.                   India  ...   \n",
      "\n",
      "      aggregated_value_traded total_value_traded bid_ask_spread  \\\n",
      "0                 27254010699        27254010699          0.01%   \n",
      "1                  1277382098         1277382098          0.01%   \n",
      "2                  1607072707         1607072707          0.02%   \n",
      "3                   500251437          500251437          0.03%   \n",
      "4                 12023540650        12023540650          0.02%   \n",
      "...                       ...                ...            ...   \n",
      "12218                  503200             503200            15%   \n",
      "12220                     NaN                NaN          0.01%   \n",
      "12221                  213326             213326          0.14%   \n",
      "12222                 7004153            7004153          0.01%   \n",
      "12223               841191000          841191000             0%   \n",
      "\n",
      "      inception_date inception_year use_derivative  payment_type  \\\n",
      "0           01/22/93             93             No        Income   \n",
      "1           05/15/00             00             No           NaN   \n",
      "2           09/09/10             10             No        Income   \n",
      "3           05/31/01             01             No        Income   \n",
      "4           03/10/99             99             No        Income   \n",
      "...              ...            ...            ...           ...   \n",
      "12218       01/15/24             24             No        Income   \n",
      "12220       06/12/12             12             No           NaN   \n",
      "12221       01/27/22             22             No        Income   \n",
      "12222       02/21/24             24             No           NaN   \n",
      "12223       01/12/24             24             No  Accumulation   \n",
      "\n",
      "                    leverage                    structure avg_bid_ask_spread  \n",
      "0      does not use leverage  Unit Investment Trust (UIT)              0.00%  \n",
      "1      does not use leverage    Managed Investment Scheme              0.04%  \n",
      "2      does not use leverage  Open-End Investment Company              0.00%  \n",
      "3      does not use leverage  Open-End Investment Company              0.01%  \n",
      "4      does not use leverage  Unit Investment Trust (UIT)              0.00%  \n",
      "...                      ...                          ...                ...  \n",
      "12218  does not use leverage  Open-End Investment Company              0.35%  \n",
      "12220  does not use leverage  Open-End Investment Company              0.09%  \n",
      "12221  does not use leverage                        Other              0.10%  \n",
      "12222  does not use leverage                      Unknown              0.15%  \n",
      "12223  does not use leverage                      Unknown              0.01%  \n",
      "\n",
      "[12050 rows x 41 columns]\n"
     ]
    },
    {
     "name": "stderr",
     "output_type": "stream",
     "text": [
      "/tmp/ipykernel_94828/1867005272.py:21: SettingWithCopyWarning: \n",
      "A value is trying to be set on a copy of a slice from a DataFrame.\n",
      "Try using .loc[row_indexer,col_indexer] = value instead\n",
      "\n",
      "See the caveats in the documentation: https://pandas.pydata.org/pandas-docs/stable/user_guide/indexing.html#returning-a-view-versus-a-copy\n",
      "  df[field] = df[field].apply(append_percentage)\n"
     ]
    }
   ],
   "source": [
    "import pandas as pd\n",
    "\n",
    "# Assuming you have a DataFrame named 'df'\n",
    "df = cleaned_df\n",
    "\n",
    "# List of fields to check\n",
    "fields_to_check = [\n",
    "    'avg_bid_ask_spread', 'bid_ask_spread', 'expense_ratio', \n",
    "    'nav_trk_error', 'return_3y', 'return_mtd', \n",
    "    'ytd_return'\n",
    "]\n",
    "\n",
    "# Function to check and append '%' if necessary\n",
    "def append_percentage(value):\n",
    "    if isinstance(value, str) and value.replace('.', '', 1).isdigit() and not value.endswith('%'):\n",
    "        return value + '%'\n",
    "    return value\n",
    "\n",
    "# Apply the function to each field in each row\n",
    "for field in fields_to_check:\n",
    "    df[field] = df[field].apply(append_percentage)\n",
    "\n",
    "# Print the updated DataFrame\n",
    "print(df)\n"
   ]
  },
  {
   "cell_type": "code",
   "execution_count": 88,
   "id": "cfd478bf-4fa0-4151-aa9f-446ed3eb3465",
   "metadata": {},
   "outputs": [
    {
     "name": "stdout",
     "output_type": "stream",
     "text": [
      "  inception_year\n",
      "0           1993\n",
      "1           2000\n",
      "2           2010\n",
      "3           2001\n",
      "4           1999\n"
     ]
    },
    {
     "name": "stderr",
     "output_type": "stream",
     "text": [
      "/tmp/ipykernel_94828/1652968176.py:1: SettingWithCopyWarning: \n",
      "A value is trying to be set on a copy of a slice from a DataFrame.\n",
      "Try using .loc[row_indexer,col_indexer] = value instead\n",
      "\n",
      "See the caveats in the documentation: https://pandas.pydata.org/pandas-docs/stable/user_guide/indexing.html#returning-a-view-versus-a-copy\n",
      "  df['inception_year'] = df['inception_year'].apply(transform_inception_year)\n"
     ]
    }
   ],
   "source": [
    "df['inception_year'] = df['inception_year'].apply(transform_inception_year)\n",
    "\n",
    "# Verify changes\n",
    "print(df[['inception_year']].head())"
   ]
  },
  {
   "cell_type": "code",
   "execution_count": 89,
   "id": "03449871-9768-410b-9fb0-f688e8887940",
   "metadata": {},
   "outputs": [],
   "source": [
    "CLEANED_ETFS_PATH = \"../../data/etf_data_v3.json\"\n",
    "df.to_json(CLEANED_ETFS_PATH, orient='records', indent=4)\n"
   ]
  },
  {
   "cell_type": "code",
   "execution_count": 84,
   "id": "cff3e1d6-5776-4d3d-a9ad-6c1c39fc9d0d",
   "metadata": {},
   "outputs": [
    {
     "name": "stdout",
     "output_type": "stream",
     "text": [
      "/home/bunt/FolioLLM/data/etf_data_cleaned_v3.json\n"
     ]
    }
   ],
   "source": [
    "import os\n",
    "\n",
    "# Relative path to the file\n",
    "CLEANED_ETFS_PATH = \"../../data/etf_data_cleaned_v3.json\"\n",
    "\n",
    "# Get the full absolute path\n",
    "full_path = os.path.abspath(CLEANED_ETFS_PATH)\n",
    "\n",
    "print(full_path)\n"
   ]
  }
 ],
 "metadata": {
  "kernelspec": {
   "display_name": "Python 3 (ipykernel)",
   "language": "python",
   "name": "python3"
  },
  "language_info": {
   "codemirror_mode": {
    "name": "ipython",
    "version": 3
   },
   "file_extension": ".py",
   "mimetype": "text/x-python",
   "name": "python",
   "nbconvert_exporter": "python",
   "pygments_lexer": "ipython3",
   "version": "3.12.3"
  }
 },
 "nbformat": 4,
 "nbformat_minor": 5
}
